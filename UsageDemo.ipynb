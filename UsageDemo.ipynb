{
 "cells": [
  {
   "cell_type": "code",
   "execution_count": 2,
   "metadata": {},
   "outputs": [
    {
     "name": "stdout",
     "output_type": "stream",
     "text": [
      "****calculating jaccard index between cell-paires ... \n",
      "****finding true zeros or dropout zeros ... \n",
      "****end find ...\n",
      "fill ratio  0.6891829035092253\n",
      "tau is 815.346102\n",
      "1  residual  1.0000000000000102\n",
      "tau is 326.366482\n",
      "2  residual  0.5116413527731057\n",
      "tau is 130.637873\n",
      "3  residual  0.4467500265613552\n",
      "tau is 130.637873\n",
      "4  residual  0.37638816177444195\n",
      "tau is 52.291687\n",
      "5  residual  0.12974647004444068\n",
      "tau is 20.931300\n",
      "6  residual  0.011335293175353407\n",
      "tau is 8.378374\n",
      "7  residual  0.001043673979810368\n",
      "tau is 3.353693\n",
      "8  residual  6.091910416525864e-05\n",
      "\n",
      "\n",
      "Running time seconds\n",
      "9.30588173866272\n",
      "\n",
      "\n"
     ]
    }
   ],
   "source": [
    "!python FRMC.py demo_normalized_data.csv  imputed_data"
   ]
  },
  {
   "cell_type": "code",
   "execution_count": 3,
   "metadata": {},
   "outputs": [
    {
     "name": "stdout",
     "output_type": "stream",
     "text": [
      "****calculating jaccard index between cell-paires ... \n",
      "****finding true zeros or dropout zeros ... \n",
      "****end find ...\n",
      "fill ratio  0.6891829035092253\n",
      "tau is 815.346102\n",
      "1  residual  1.0000000000000102\n",
      "tau is 326.366482\n",
      "2  residual  0.5116413527731057\n",
      "tau is 130.637873\n",
      "3  residual  0.4467500265613552\n",
      "tau is 130.637873\n",
      "4  residual  0.37638816177444195\n",
      "tau is 52.291687\n",
      "5  residual  0.12974647004444068\n",
      "tau is 20.931300\n",
      "6  residual  0.011335293175353407\n",
      "tau is 8.378374\n",
      "7  residual  0.001043673979810368\n",
      "tau is 3.353693\n",
      "8  residual  6.091910416525864e-05\n",
      "\n",
      "\n",
      "Running time seconds\n",
      "8.608607053756714\n",
      "\n",
      "\n"
     ]
    }
   ],
   "source": [
    "!python FRMC_LowMemoryVersion.py demo_normalized_data.csv  imputed_data_2"
   ]
  },
  {
   "cell_type": "code",
   "execution_count": null,
   "metadata": {},
   "outputs": [],
   "source": []
  }
 ],
 "metadata": {
  "kernelspec": {
   "display_name": "Python 3",
   "language": "python",
   "name": "python3"
  },
  "language_info": {
   "codemirror_mode": {
    "name": "ipython",
    "version": 3
   },
   "file_extension": ".py",
   "mimetype": "text/x-python",
   "name": "python",
   "nbconvert_exporter": "python",
   "pygments_lexer": "ipython3",
   "version": "3.7.6"
  }
 },
 "nbformat": 4,
 "nbformat_minor": 4
}
